{
 "cells": [
  {
   "cell_type": "code",
   "execution_count": 1,
   "metadata": {},
   "outputs": [
    {
     "name": "stdout",
     "output_type": "stream",
     "text": [
      "Welcome to the band name generator.\n",
      "Your band name could be hangzhou feimizi\n"
     ]
    }
   ],
   "source": [
    "### Band Generator ###\n",
    "# create a greeting\n",
    "print(\"Welcome to the band name generator.\")\n",
    "# ask the user for the city that they grew up in\n",
    "city = input(\"What's name of the city you grew up in?\\n\")\n",
    "# ask the user for the name of a pet\n",
    "pet = input(\"What's your pet's name?\\n\")\n",
    "# combine the name of their city and pet and show them their band name\n",
    "print(\"Your band name could be \" + city + \" \" + pet)\n"
   ]
  },
  {
   "cell_type": "code",
   "execution_count": 4,
   "metadata": {},
   "outputs": [
    {
     "name": "stdout",
     "output_type": "stream",
     "text": [
      "Welcome to the tip calculator.\n",
      "you should pay tip: $2.0\n",
      "Each person should pay: $22.0\n"
     ]
    }
   ],
   "source": [
    "### Tip Calculator ###\n",
    "# create a greeting\n",
    "print(\"Welcome to the tip calculator.\")\n",
    "# ask the user for the total bill\n",
    "input_bill = input(\"What was the total bill? $\")\n",
    "# ask how many people to split the bill\n",
    "input_people = input(\"How many people to split the bill? \")\n",
    "# ask what percentage tip user want to give\n",
    "input_tip = input(\"What percentage tip would you like to give? 10, 12, or 15? \")\n",
    "# calculate the tip\n",
    "tip = float(input_bill)/float(input_people) * (int(input_tip) / 100)\n",
    "print(\"you should pay tip: $\" + str(tip))\n",
    "# calculate the total bill with tip you should pay\n",
    "total = float(input_bill)/float(input_people) + tip\n",
    "print(f\"Each person should pay: ${str(total)}\")"
   ]
  },
  {
   "cell_type": "code",
   "execution_count": 9,
   "metadata": {},
   "outputs": [
    {
     "name": "stdout",
     "output_type": "stream",
     "text": [
      "Your BMI is 20.8\n"
     ]
    }
   ],
   "source": [
    "### BMI calculator ###\n",
    "height = input(\"enter your height in m: \")\n",
    "weight = input(\"enter your weight in kg: \")\n",
    "\n",
    "bmi = int(weight) / (float(height) ** 2)\n",
    "# only keep one decimal place\n",
    "bmi = round(bmi, 1)\n",
    "print(f\"Your BMI is {bmi}\")"
   ]
  }
 ],
 "metadata": {
  "kernelspec": {
   "display_name": "Python 3",
   "language": "python",
   "name": "python3"
  },
  "language_info": {
   "codemirror_mode": {
    "name": "ipython",
    "version": 3
   },
   "file_extension": ".py",
   "mimetype": "text/x-python",
   "name": "python",
   "nbconvert_exporter": "python",
   "pygments_lexer": "ipython3",
   "version": "3.9.1"
  },
  "orig_nbformat": 4
 },
 "nbformat": 4,
 "nbformat_minor": 2
}
